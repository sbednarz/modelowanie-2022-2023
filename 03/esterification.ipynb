{
 "cells": [
  {
   "cell_type": "code",
   "execution_count": 27,
   "id": "fd8d35ea-ae7d-4408-add7-0991d6c5b09e",
   "metadata": {},
   "outputs": [
    {
     "name": "stdout",
     "output_type": "stream",
     "text": [
      "Concentrations under equilibrium: [M]=1.20, [A]=1.20 [E]=3.80 W=3.80\n"
     ]
    }
   ],
   "source": [
    "# M + A <=> E + W\n",
    "# M0 = 5 mol/L\n",
    "# A0 = 5 mol/L\n",
    "# K = 10\n",
    "\n",
    "\n",
    "\n",
    "\n",
    "\n",
    "\n",
    "\n",
    "\n",
    "\n",
    "\n",
    "\n",
    "\n",
    "\n",
    "\n",
    "\n",
    "\n",
    "\n",
    "\n",
    "\n",
    "\n",
    "\n",
    "\n",
    "\n",
    "\n",
    "\n",
    "\n",
    "\n",
    "\n",
    "\n",
    "\n",
    "\n",
    "\n",
    "\n",
    "import numpy as np\n",
    "from scipy.optimize import fsolve\n",
    "\n",
    "def model(X):\n",
    "    xi1, = X\n",
    "    M = M0 - xi1\n",
    "    A = A0 - xi1\n",
    "    E = E0 + xi1\n",
    "    W = W0 + xi1\n",
    "    \n",
    "    eq1 = K*M*A - E*W  # equivalent form of K - E*W/M*A (quotient => product form)\n",
    "    \n",
    "    return [eq1]\n",
    "\n",
    "A0 = 5\n",
    "M0 = 5\n",
    "E0 = 0\n",
    "W0 = 0\n",
    "K = 10\n",
    "\n",
    "\n",
    "guess = [0.01]\n",
    "\n",
    "xi1, = fsolve(model, guess)\n",
    "M = M0 - xi1\n",
    "A = A0 - xi1\n",
    "E = E0 + xi1\n",
    "W = W0 + xi1\n",
    "print(\"Concentrations under equilibrium: [M]={:.2f}, [A]={:.2f} [E]={:.2f} W={:.2f}\".format(M, A, E, W))\n",
    "\n"
   ]
  },
  {
   "cell_type": "code",
   "execution_count": 76,
   "id": "8db2f819-a27a-4d73-ae95-afc27a4a25f8",
   "metadata": {},
   "outputs": [
    {
     "name": "stdout",
     "output_type": "stream",
     "text": [
      "5.0\n"
     ]
    }
   ],
   "source": [
    "# M balance\n",
    "print(M+E)"
   ]
  },
  {
   "cell_type": "code",
   "execution_count": 77,
   "id": "a0d33012-9439-4b3d-a915-519e0449c49e",
   "metadata": {},
   "outputs": [
    {
     "name": "stdout",
     "output_type": "stream",
     "text": [
      "5.0\n"
     ]
    }
   ],
   "source": [
    "# A balance\n",
    "print(A+E)"
   ]
  },
  {
   "cell_type": "code",
   "execution_count": 78,
   "id": "8fb21c6a-5204-4294-91d5-adac83f42dd0",
   "metadata": {},
   "outputs": [
    {
     "name": "stdout",
     "output_type": "stream",
     "text": [
      "Concentrations under equilibrium: [M]=1.20, [A]=1.20 [E]=3.80 W=3.80\n",
      "5.0\n",
      "5.0\n"
     ]
    }
   ],
   "source": [
    "# still the same model, but different scenario:\n",
    "# => hydrolysis\n",
    "\n",
    "import numpy as np\n",
    "from scipy.optimize import fsolve\n",
    "\n",
    "def model(X):\n",
    "    xi1, = X\n",
    "    M = M0 - xi1\n",
    "    A = A0 - xi1\n",
    "    E = E0 + xi1\n",
    "    W = W0 + xi1\n",
    "    \n",
    "    eq1 = K*M*A - E*W  # equivalent form of K - E*W/M*A (quotient => product form)\n",
    "    \n",
    "    return [eq1]\n",
    "\n",
    "A0 = 0\n",
    "M0 = 0\n",
    "E0 = 5\n",
    "W0 = 5\n",
    "K = 10\n",
    "\n",
    "\n",
    "guess = [0.01]\n",
    "\n",
    "xi1, = fsolve(model, guess)\n",
    "M = M0 - xi1\n",
    "A = A0 - xi1\n",
    "E = E0 + xi1\n",
    "W = W0 + xi1\n",
    "print(\"Concentrations under equilibrium: [M]={:.2f}, [A]={:.2f} [E]={:.2f} W={:.2f}\".format(M, A, E, W))\n",
    "print(M+E)\n",
    "print(A+E)\n"
   ]
  },
  {
   "cell_type": "code",
   "execution_count": 82,
   "id": "30ffd075-3042-4401-a33c-0b2b99b82585",
   "metadata": {},
   "outputs": [
    {
     "name": "stdout",
     "output_type": "stream",
     "text": [
      "Concentrations under equilibrium: [M]=1.22, [A]=1.22 [E]=3.78 W=3.98\n",
      "5.0\n",
      "5.0\n"
     ]
    }
   ],
   "source": [
    "# still the same model, but different scenario:\n",
    "# => esterification of not so dry starting materials\n",
    "\n",
    "import numpy as np\n",
    "from scipy.optimize import fsolve\n",
    "\n",
    "def model(X):\n",
    "    xi1, = X\n",
    "    M = M0 - xi1\n",
    "    A = A0 - xi1\n",
    "    E = E0 + xi1\n",
    "    W = W0 + xi1\n",
    "    \n",
    "    eq1 = K*M*A - E*W  # equivalent form of K - E*W/M*A (quotient => product form)\n",
    "    \n",
    "    return [eq1]\n",
    "\n",
    "A0 = 5\n",
    "M0 = 5\n",
    "E0 = 0\n",
    "W0 = 0.2\n",
    "K = 10\n",
    "\n",
    "\n",
    "guess = [0.01]\n",
    "\n",
    "xi1, = fsolve(model, guess)\n",
    "M = M0 - xi1\n",
    "A = A0 - xi1\n",
    "E = E0 + xi1\n",
    "W = W0 + xi1\n",
    "print(\"Concentrations under equilibrium: [M]={:.2f}, [A]={:.2f} [E]={:.2f} W={:.2f}\".format(M, A, E, W))\n",
    "print(M+E)\n",
    "print(A+E)\n"
   ]
  },
  {
   "cell_type": "code",
   "execution_count": 89,
   "id": "ebcfbfbc-d986-44e8-9304-18e328ce12fb",
   "metadata": {},
   "outputs": [
    {
     "name": "stdout",
     "output_type": "stream",
     "text": [
      "Concentrations under equilibrium for K=0.1: [M]=3.80, [A]=3.80 [E]=1.20 W=1.20\n",
      "Concentrations under equilibrium for K=1.0: [M]=2.50, [A]=2.50 [E]=2.50 W=2.50\n",
      "Concentrations under equilibrium for K=10.0: [M]=1.20, [A]=1.20 [E]=3.80 W=3.80\n",
      "Concentrations under equilibrium for K=100.0: [M]=0.45, [A]=0.45 [E]=4.55 W=4.55\n",
      "Concentrations under equilibrium for K=1000.0: [M]=0.15, [A]=0.15 [E]=4.85 W=4.85\n",
      "Concentrations under equilibrium for K=10000.0: [M]=0.05, [A]=0.05 [E]=4.95 W=4.95\n",
      "Concentrations under equilibrium for K=100000.0: [M]=0.02, [A]=0.02 [E]=4.98 W=4.98\n"
     ]
    }
   ],
   "source": [
    "# loops\n",
    "\n",
    "import numpy as np\n",
    "from scipy.optimize import fsolve\n",
    "\n",
    "def model(X):\n",
    "    xi1, = X\n",
    "    M = M0 - xi1\n",
    "    A = A0 - xi1\n",
    "    E = E0 + xi1\n",
    "    W = W0 + xi1\n",
    "    \n",
    "    eq1 = K*M*A - E*W  # equivalent form of K - E*W/M*A\n",
    "    \n",
    "    return [eq1]\n",
    "\n",
    "A0 = 5\n",
    "M0 = 5\n",
    "E0 = 0\n",
    "W0 = 0\n",
    "\n",
    "K_to_test = [0.1, 1, 10, 100, 1000, 1e4, 1e5]\n",
    "\n",
    "\n",
    "guess = [0.01]\n",
    "\n",
    "for K in K_to_test:\n",
    "    xi1, = fsolve(model, guess)\n",
    "    M = M0 - xi1\n",
    "    A = A0 - xi1\n",
    "    E = E0 + xi1\n",
    "    W = W0 + xi1\n",
    "    print(\"Concentrations under equilibrium for K={:.1f}: [M]={:.2f}, [A]={:.2f} [E]={:.2f} W={:.2f}\".format(K, M, A, E, W))"
   ]
  },
  {
   "cell_type": "code",
   "execution_count": 90,
   "id": "d2db1a90-e9a3-423d-aa99-061ddd3536f7",
   "metadata": {},
   "outputs": [
    {
     "name": "stdout",
     "output_type": "stream",
     "text": [
      "[[1.00000000e-01 1.20126537e+00 3.79873463e+00 3.79873463e+00\n",
      "  1.20126537e+00 1.20126537e+00]\n",
      " [1.00000000e+00 2.50000000e+00 2.50000000e+00 2.50000000e+00\n",
      "  2.50000000e+00 2.50000000e+00]\n",
      " [1.00000000e+01 3.79873463e+00 1.20126537e+00 1.20126537e+00\n",
      "  3.79873463e+00 3.79873463e+00]\n",
      " [1.00000000e+02 4.54545455e+00 4.54545455e-01 4.54545455e-01\n",
      "  4.54545455e+00 4.54545455e+00]\n",
      " [1.00000000e+03 4.84673285e+00 1.53267150e-01 1.53267150e-01\n",
      "  4.84673285e+00 4.84673285e+00]\n",
      " [1.00000000e+04 4.95049505e+00 4.95049505e-02 4.95049505e-02\n",
      "  4.95049505e+00 4.95049505e+00]\n",
      " [1.00000000e+05 4.98423845e+00 1.57615459e-02 1.57615459e-02\n",
      "  4.98423845e+00 4.98423845e+00]]\n",
      "K: [1.e-01 1.e+00 1.e+01 1.e+02 1.e+03 1.e+04 1.e+05]\n",
      "M: [3.79873463 2.5        1.20126537 0.45454545 0.15326715 0.04950495\n",
      " 0.01576155]\n"
     ]
    }
   ],
   "source": [
    "# Python loops & collecting data for making plot\n",
    "\n",
    "import numpy as np\n",
    "from scipy.optimize import fsolve\n",
    "import matplotlib.pyplot as plt\n",
    "%matplotlib inline\n",
    "\n",
    "def model(X):\n",
    "    xi1, = X\n",
    "    M = M0 - xi1\n",
    "    A = A0 - xi1\n",
    "    E = E0 + xi1\n",
    "    W = W0 + xi1\n",
    "    \n",
    "    eq1 = K*M*A - E*W  # equivalent form of K - E*W/M*A (\n",
    "    \n",
    "    return [eq1]\n",
    "\n",
    "A0 = 5\n",
    "M0 = 5\n",
    "E0 = 0\n",
    "W0 = 0\n",
    "\n",
    "K_to_test = [0.1, 1, 10, 100, 1000, 1e4, 1e5]\n",
    "\n",
    "\n",
    "guess = [0.01]\n",
    "\n",
    "results = np.zeros((7,6)) # rows x cols\n",
    "i = 0\n",
    "\n",
    "for K in K_to_test:\n",
    "    xi1, = fsolve(model, guess)\n",
    "    M = M0 - xi1\n",
    "    A = A0 - xi1\n",
    "    E = E0 + xi1\n",
    "    W = W0 + xi1\n",
    "    results[i,0] = K\n",
    "    results[i,1] = xi1\n",
    "    results[i,2] = M\n",
    "    results[i,3] = A\n",
    "    results[i,4] = E\n",
    "    results[i,5] = W\n",
    "    i = i + 1\n",
    "    \n",
    "# whole content\n",
    "print(results) \n",
    "\n",
    "# just K\n",
    "print(\"K:\", results[:,0])\n",
    "\n",
    "# just M\n",
    "print(\"M:\", results[:,2])\n"
   ]
  },
  {
   "cell_type": "code",
   "execution_count": 91,
   "id": "70bd97f0-e979-4704-a616-249681eafebf",
   "metadata": {},
   "outputs": [
    {
     "data": {
      "text/plain": [
       "[<matplotlib.lines.Line2D at 0x7f53671f7550>]"
      ]
     },
     "execution_count": 91,
     "metadata": {},
     "output_type": "execute_result"
    },
    {
     "data": {
      "image/png": "[encoded data removed]",
      "text/plain": [
       "<Figure size 432x288 with 1 Axes>"
      ]
     },
     "metadata": {
      "needs_background": "light"
     },
     "output_type": "display_data"
    }
   ],
   "source": [
    "plt.plot(results[:,0], results[:,2], 'o-')"
   ]
  },
  {
   "cell_type": "code",
   "execution_count": 92,
   "id": "907e17f2-4950-4b30-b174-8ea1197b639d",
   "metadata": {},
   "outputs": [
    {
     "data": {
      "text/plain": [
       "Text(0, 0.5, '[M]eq, mol/L')"
      ]
     },
     "execution_count": 92,
     "metadata": {},
     "output_type": "execute_result"
    },
    {
     "data": {
      "image/png": "[encoded data removed]",
      "text/plain": [
       "<Figure size 432x288 with 1 Axes>"
      ]
     },
     "metadata": {
      "needs_background": "light"
     },
     "output_type": "display_data"
    }
   ],
   "source": [
    "plt.xscale('log')\n",
    "plt.plot(results[:,0], results[:,2], 'o-')\n",
    "plt.xlabel('K')\n",
    "plt.ylabel('[M]eq, mol/L')"
   ]
  },
  {
   "cell_type": "code",
   "execution_count": 120,
   "id": "40db67ef-7fb1-4f08-9cd8-875ef7a85c2f",
   "metadata": {},
   "outputs": [
    {
     "name": "stdout",
     "output_type": "stream",
     "text": [
      "[M]=2.48, [E]=1.98 [A]=0.46 [ES1]=2.52 [ES2]=2.02 W=4.54\n"
     ]
    }
   ],
   "source": [
    "# 1) M + A <=> ES1 + W\n",
    "# 2) E + A <=> ES2 + W\n",
    "#\n",
    "# M0 = 5 mol/L\n",
    "# E0 = 4 mol/L\n",
    "# A0 = 5 mol/L\n",
    "#\n",
    "# K1 = 10\n",
    "# K2 = 10\n",
    "\n",
    "\n",
    "\n",
    "\n",
    "\n",
    "\n",
    "\n",
    "\n",
    "\n",
    "\n",
    "\n",
    "\n",
    "\n",
    "\n",
    "\n",
    "\n",
    "\n",
    "\n",
    "\n",
    "\n",
    "\n",
    "\n",
    "\n",
    "\n",
    "\n",
    "\n",
    "\n",
    "\n",
    "\n",
    "\n",
    "\n",
    "\n",
    "\n",
    "\n",
    "\n",
    "\n",
    "import numpy as np\n",
    "from scipy.optimize import fsolve\n",
    "\n",
    "def model(X):\n",
    "    xi1, xi2 = X\n",
    "    \n",
    "    M = M0 - xi1\n",
    "    E = E0 - xi2\n",
    "    A = A0 - xi1 - xi2\n",
    "    ES1 = ES10 + xi1\n",
    "    ES2 = ES20 + xi2\n",
    "    W = W0 + xi1 + xi2\n",
    "    \n",
    "    eq1 = K1*M*A - ES1*W  # equivalent form of K - ES1*W/M*A (quotient => product)\n",
    "    eq2 = K2*E*A - ES2*W  # equivalent form of K - ES2*W/E*A (quotient => product)\n",
    "    \n",
    "    return [eq1, eq2]\n",
    "\n",
    "M0 = 5\n",
    "E0 = 4\n",
    "A0 = 5\n",
    "ES10 = 0\n",
    "ES20 = 0\n",
    "W0 = 0\n",
    "K1 = 10\n",
    "K2 = 10\n",
    "\n",
    "\n",
    "guess = [0.01, 0.01]\n",
    "\n",
    "xi1, xi2 = fsolve(model, guess)\n",
    "M = M0 - xi1\n",
    "E = E0 - xi2\n",
    "A = A0 - xi1 - xi2\n",
    "ES1 = ES10 + xi1\n",
    "ES2 = ES20 + xi2\n",
    "W = W0 + xi1 + xi2\n",
    "print(\"[M]={:.2f}, [E]={:.2f} [A]={:.2f} [ES1]={:.2f} [ES2]={:.2f} W={:.2f}\".format(M, E, A, ES1, ES2, W))\n",
    "\n"
   ]
  },
  {
   "cell_type": "code",
   "execution_count": 122,
   "id": "25471a79-544f-455a-9fde-b8d44bc3c491",
   "metadata": {},
   "outputs": [
    {
     "name": "stdout",
     "output_type": "stream",
     "text": [
      "Results checking\n",
      "M balance: 5.0 = 5\n",
      "E balance: 4.0 = 4\n",
      "A balance: 5.0 = 5\n",
      "Ester bonds balance: 4.538360058419277 = 4.538360058419277\n"
     ]
    }
   ],
   "source": [
    "# Checking the correctness of the calculation results\n",
    "\n",
    "print(\"Results checking\")\n",
    "print(\"M balance:\", M + ES1 ,\"=\", M0)\n",
    "print(\"E balance:\", E + ES2 ,\"=\", E0)\n",
    "print(\"A balance:\", A + ES1 + ES2 ,\"=\", A0)\n",
    "print(\"Ester bonds balance:\", ES1 + ES2 ,\"=\", W-W0)"
   ]
  },
  {
   "cell_type": "code",
   "execution_count": null,
   "id": "e0b1ef65-9128-4dfc-ae18-df29888d3a99",
   "metadata": {},
   "outputs": [],
   "source": []
  }
 ],
 "metadata": {
  "kernelspec": {
   "display_name": "Python 3 (ipykernel)",
   "language": "python",
   "name": "python3"
  },
  "language_info": {
   "codemirror_mode": {
    "name": "ipython",
    "version": 3
   },
   "file_extension": ".py",
   "mimetype": "text/x-python",
   "name": "python",
   "nbconvert_exporter": "python",
   "pygments_lexer": "ipython3",
   "version": "3.7.12"
  }
 },
 "nbformat": 4,
 "nbformat_minor": 5
}
