{
 "cells": [
  {
   "cell_type": "code",
   "execution_count": 1,
   "id": "7606edf4-c3cd-4767-bc2d-5012b566af07",
   "metadata": {},
   "outputs": [
    {
     "name": "stdout",
     "output_type": "stream",
     "text": [
      "Concentrations under equilibrium: [H+]=1.00e-07, [OH-]=1.00e-07\n",
      "pH 7.0\n"
     ]
    }
   ],
   "source": [
    "# https://www.khanacademy.org/science/chemistry/acids-and-bases-topic/acids-and-bases/a/water-autoionization-and-kw\n",
    "# H2O <=> H+ + OH-\n",
    "# Kw = [H+][OH-] = 1e-14\n",
    "\n",
    "\n",
    "import numpy as np\n",
    "from scipy.optimize import fsolve\n",
    "\n",
    "def model(X):\n",
    "    H, OH = X\n",
    "    \n",
    "    eq1 = Kw - H*OH  # autoionization of water\n",
    "    eq2 = H - OH     # electroneutrality constraint\n",
    "    \n",
    "    return [eq1, eq2]\n",
    "\n",
    "Kw = 1e-14\n",
    "\n",
    "guess = [1e-7, 1e-7]\n",
    "\n",
    "H, OH = fsolve(model, guess)\n",
    "print(\"Concentrations under equilibrium: [H+]={:.2e}, [OH-]={:.2e}\".format(H, OH))\n",
    "print(\"pH\", -np.log10(H))\n"
   ]
  },
  {
   "cell_type": "code",
   "execution_count": 2,
   "id": "4b04c958-71b8-41e8-9c05-32c86e37e355",
   "metadata": {},
   "outputs": [
    {
     "name": "stdout",
     "output_type": "stream",
     "text": [
      "Concentrations under equilibrium: [H+]=1.00000e-01, [OH-]=1.00000e-13, [OH-]=1.00000e-01\n",
      "pH= 0.9999999999995657\n",
      "approx. pH: 1.0\n"
     ]
    }
   ],
   "source": [
    "# 1) 0.1M HCl\n",
    "# 2) 1e-8M HCl\n",
    "\n",
    "# H OH Cl-\n",
    "#\n",
    "# TODO: strong base solution\n",
    "\n",
    "import numpy as np\n",
    "from scipy.optimize import fsolve\n",
    "\n",
    "def model(X):\n",
    "    H, OH, Cl = X\n",
    "    \n",
    "    eq1 = Kw - H*OH      # autoionization of water\n",
    "    eq2 = H - OH - Cl    # electroneutrality constraint\n",
    "    eq3 = cHCl - Cl      # chloride balance\n",
    "    \n",
    "    return [eq1, eq2, eq3]\n",
    "\n",
    "Kw = 1e-14\n",
    "cHCl = 0.1\n",
    "\n",
    "guess = [1e-7, 1e-7, 1e-7]\n",
    "\n",
    "H, OH, Cl = fsolve(model, guess)\n",
    "print(\"Concentrations under equilibrium: [H+]={:.5e}, [OH-]={:.5e}, [OH-]={:.5e}\".format(H, OH, Cl))\n",
    "\n",
    "print(\"pH=\", -np.log10(H))\n",
    "print(\"approx. pH:\", -np.log10(cHCl))"
   ]
  },
  {
   "cell_type": "code",
   "execution_count": 3,
   "id": "f2783fe8-7229-44bd-a021-979ca8556ec2",
   "metadata": {},
   "outputs": [
    {
     "name": "stdout",
     "output_type": "stream",
     "text": [
      "Under equilibrium: [H+]=1.29537e-03, [OH-]=7.71318e-12, [CH3COOH]=9.87046e-02, [CHCOO]=1.29537e-03\n",
      "pH=2.888\n"
     ]
    }
   ],
   "source": [
    "# 0.1M CH3COOH\n",
    "# H OH CH3COOH CH3COO-\n",
    "#\n",
    "\n",
    "\n",
    "import numpy as np\n",
    "from scipy.optimize import fsolve\n",
    "\n",
    "def model(X):\n",
    "    H, OH, CH3COOH, CH3COO = X\n",
    "    \n",
    "    eq1 = Kw - H*OH                       # autoionization of water\n",
    "    eq2 = H - OH - CH3COO                 # electroneutrality constraint\n",
    "    eq3 = cCH3COOH - CH3COOH - CH3COO     # acetic acid balance\n",
    "    eq4 = Ka*CH3COOH - CH3COO*H           # dissociation constant of the (weak) acid Ka = CH3COO*H/CH3COOH\n",
    "\n",
    "    return [eq1, eq2, eq3, eq4]\n",
    "\n",
    "Kw = 1e-14\n",
    "Ka = 1.7e-5\n",
    "cCH3COOH = 0.1\n",
    "\n",
    "#guess = [1e-7, 1e-7, 1e-7, 1e-7]\n",
    "guess = [1e-7, 1e-10, 1e-7, 1e-7]\n",
    "\n",
    "\n",
    "H, OH, CH3COOH, CH3COO = fsolve(model, guess)\n",
    "print(\"Under equilibrium: [H+]={:.5e}, [OH-]={:.5e}, [CH3COOH]={:.5e}, [CHCOO]={:.5e}\".format(H, OH, CH3COOH, CH3COO))\n",
    "\n",
    "print(\"pH={:.3f}\".format(-np.log10(H)))\n"
   ]
  },
  {
   "cell_type": "code",
   "execution_count": 4,
   "id": "666946bf-ca4a-464c-a7ec-5eae37db66e2",
   "metadata": {},
   "outputs": [
    {
     "data": {
      "text/plain": [
       "0.1"
      ]
     },
     "execution_count": 4,
     "metadata": {},
     "output_type": "execute_result"
    }
   ],
   "source": [
    "CH3COOH + CH3COO"
   ]
  },
  {
   "cell_type": "code",
   "execution_count": 19,
   "id": "0627a248-c321-459f-ad21-33fbd0900540",
   "metadata": {},
   "outputs": [
    {
     "name": "stdout",
     "output_type": "stream",
     "text": [
      "Under equilibrium: [H+]=1.30376e-09, [OH-]=7.66987e-06, [CH3COOH]=7.66857e-06, [CHCOO]=9.99923e-02, [Na]=1.00000e-01\n",
      "pH=8.885\n"
     ]
    }
   ],
   "source": [
    "# 0.1M CH3COONa\n",
    "# H OH CH3COOH CH3COO- Na+\n",
    "#\n",
    "\n",
    "import numpy as np\n",
    "from scipy.optimize import fsolve\n",
    "\n",
    "def model(X):\n",
    "    H, OH, CH3COOH, CH3COO, Na = X\n",
    "    \n",
    "    eq1 = Kw - H*OH                       # autoionization of water\n",
    "    eq2 = H + Na - OH - CH3COO            # electroneutrality constraint (charge balance)\n",
    "    eq3 = cSALT - CH3COOH - CH3COO        # acetic acid balance\n",
    "    eq4 = Ka*CH3COOH - CH3COO*H           # dissociation constant of the (weak) acid Ka = CH3COO*H/CH3COOH\n",
    "    eq5 = cSALT - Na                      # sodium balace\n",
    "    \n",
    "\n",
    "    return [eq1, eq2, eq3, eq4, eq5]\n",
    "\n",
    "Kw = 1e-14\n",
    "Ka = 1.7e-5\n",
    "cSALT = 0.1\n",
    "\n",
    "#guess = [1e-7, 1e-7, 1e-7, 1e-7] # not convergent to the solution\n",
    "guess = [1e-4, 1e-4, 1e-4, 1e-4, 1e-1]\n",
    "\n",
    "\n",
    "H, OH, CH3COOH, CH3COO, Na = fsolve(model, guess)\n",
    "print(\"Under equilibrium: [H+]={:.5e}, [OH-]={:.5e}, [CH3COOH]={:.5e}, [CHCOO]={:.5e}, [Na]={:.5e}\".format(H, OH, CH3COOH, CH3COO, Na))\n",
    "\n",
    "print(\"pH={:.3f}\".format(-np.log10(H)))\n",
    "\n",
    "\n",
    "\n",
    "\n"
   ]
  },
  {
   "cell_type": "code",
   "execution_count": 30,
   "id": "6e057c4b-af5f-4ff3-b23d-f5a6c829a2aa",
   "metadata": {},
   "outputs": [
    {
     "name": "stdout",
     "output_type": "stream",
     "text": [
      "Under equilibrium: [H+]=5.97634e-05, [OH-]=1.67325e-10, [CH3COOH]=7.72502e-02, [CHCOO]=2.27498e-02, [Na]=2.26900e-02\n",
      "pH=4.224\n"
     ]
    }
   ],
   "source": [
    "# https://www.aatbio.com/resources/buffer-preparations-and-recipes/acetate-buffer-ph-3-6-to-5-6\n",
    "# 0.05 mol/L CH3COONa + 0.05 mol/L CH3COOH\n",
    "# H OH CH3COOH CH3COO- Na+\n",
    "#\n",
    "\n",
    "import numpy as np\n",
    "from scipy.optimize import fsolve\n",
    "\n",
    "def model(X):\n",
    "    H, OH, CH3COOH, CH3COO, Na = X\n",
    "    \n",
    "    eq1 = Kw - H*OH                                # autoionization of water\n",
    "    eq2 = H + Na - OH - CH3COO                     # electroneutrality constraint (charge balance)\n",
    "    eq3 = cSALT + cCH3COOH - CH3COOH - CH3COO      # acetic acid balance\n",
    "    eq4 = Ka*CH3COOH - CH3COO*H                    # dissociation constant of the (weak) acid Ka = CH3COO*H/CH3COOH\n",
    "    eq5 = cSALT - Na                               # sodium balace\n",
    "    \n",
    "\n",
    "    return [eq1, eq2, eq3, eq4, eq5]\n",
    "\n",
    "Kw = 1e-14\n",
    "Ka = 1.76e-5\n",
    "cSALT = 0.02269\n",
    "cCH3COOH = 0.07731\n",
    "\n",
    "#guess = [1e-7, 1e-7, 1e-7, 1e-7] # not convergent to the solution\n",
    "guess = [1e-4, 1e-4, 1e-4, 1e-4, 1e-1]\n",
    "\n",
    "\n",
    "H, OH, CH3COOH, CH3COO, Na = fsolve(model, guess)\n",
    "print(\"Under equilibrium: [H+]={:.5e}, [OH-]={:.5e}, [CH3COOH]={:.5e}, [CHCOO]={:.5e}, [Na]={:.5e}\".format(H, OH, CH3COOH, CH3COO, Na))\n",
    "\n",
    "print(\"pH={:.3f}\".format(-np.log10(H)))\n",
    "\n",
    "\n",
    "\n",
    "\n"
   ]
  },
  {
   "cell_type": "code",
   "execution_count": null,
   "id": "e831bf59-5ccd-4352-b08b-5e000f3007c0",
   "metadata": {},
   "outputs": [],
   "source": []
  }
 ],
 "metadata": {
  "kernelspec": {
   "display_name": "Python 3 (ipykernel)",
   "language": "python",
   "name": "python3"
  },
  "language_info": {
   "codemirror_mode": {
    "name": "ipython",
    "version": 3
   },
   "file_extension": ".py",
   "mimetype": "text/x-python",
   "name": "python",
   "nbconvert_exporter": "python",
   "pygments_lexer": "ipython3",
   "version": "3.7.12"
  }
 },
 "nbformat": 4,
 "nbformat_minor": 5
}
