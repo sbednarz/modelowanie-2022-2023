{
 "cells": [
  {
   "cell_type": "code",
   "execution_count": 43,
   "metadata": {},
   "outputs": [
    {
     "data": {
      "text/plain": [
       "Text(0,0.5,'Stezenie reagentow')"
      ]
     },
     "execution_count": 43,
     "metadata": {},
     "output_type": "execute_result"
    },
    {
     "data": {
      "image/png": "[encoded data removed]",
      "text/plain": [
       "<matplotlib.figure.Figure at 0x1cc74801c88>"
      ]
     },
     "metadata": {},
     "output_type": "display_data"
    }
   ],
   "source": [
    "%matplotlib inline\n",
    "import matplotlib.pyplot as plt\n",
    "\n",
    "import numpy\n",
    "from scipy.integrate import odeint\n",
    "\n",
    "\n",
    "# A -> B -> C\n",
    "\n",
    "def model(y, t):\n",
    "    \n",
    "    #a,b => stężenia [A] [B]\n",
    "    a = y[0]\n",
    "    b = y[1]\n",
    "    c = y[2]\n",
    "    \n",
    "    k1 = 1e-2\n",
    "    k2 = 5e-3\n",
    "    \n",
    "    #model kinetyczny\n",
    "    dadt = -k1*a         # da/dt = -k1a\n",
    "    dbdt = k1*a - k2*b   # db/dt = k1a-k2b\n",
    "    dcdt = k2*b          # dc/dt = k2b\n",
    "    return [dadt, dbdt, dcdt]\n",
    "\n",
    "\n",
    "\n",
    "initial = [2,0,0]\n",
    "\n",
    "# im więcej przedziałów czasu, tym dokładniej\n",
    "t = numpy.linspace(0, 600, 1000)\n",
    "\n",
    "res = odeint( model, initial, t )\n",
    "a = res[:,0]\n",
    "b = res[:,1]\n",
    "c = res[:,2]\n",
    "\n",
    "plt.plot(t,a,'bo', label='[A]')\n",
    "plt.plot(t,b,'ro', label='[B]')\n",
    "plt.plot(t,c,'go', label='[C]')\n",
    "plt.legend(loc='upper left', bbox_to_anchor=(1, 0.5))\n",
    "plt.xlabel('Czas reakcji')\n",
    "plt.ylabel('Stezenie reagentow')"
   ]
  },
  {
   "cell_type": "markdown",
   "metadata": {},
   "source": [
    "Maksymalne stężenie B:"
   ]
  },
  {
   "cell_type": "code",
   "execution_count": 44,
   "metadata": {},
   "outputs": [
    {
     "data": {
      "text/plain": [
       "0.9999997188150647"
      ]
     },
     "execution_count": 44,
     "metadata": {},
     "output_type": "execute_result"
    }
   ],
   "source": [
    "b.max()"
   ]
  },
  {
   "cell_type": "markdown",
   "metadata": {},
   "source": [
    "Indeks tej maksymalnej wartości:"
   ]
  },
  {
   "cell_type": "code",
   "execution_count": 45,
   "metadata": {},
   "outputs": [
    {
     "name": "stdout",
     "output_type": "stream",
     "text": [
      "231\n"
     ]
    }
   ],
   "source": [
    "n_max = b.argmax()\n",
    "print(n_max)"
   ]
  },
  {
   "cell_type": "code",
   "execution_count": 46,
   "metadata": {},
   "outputs": [
    {
     "data": {
      "text/plain": [
       "0.9999997188150647"
      ]
     },
     "execution_count": 46,
     "metadata": {},
     "output_type": "execute_result"
    }
   ],
   "source": [
    "b[n_max]"
   ]
  },
  {
   "cell_type": "markdown",
   "metadata": {},
   "source": [
    "Czas (s):"
   ]
  },
  {
   "cell_type": "code",
   "execution_count": 47,
   "metadata": {},
   "outputs": [
    {
     "data": {
      "text/plain": [
       "138.73873873873873"
      ]
     },
     "execution_count": 47,
     "metadata": {},
     "output_type": "execute_result"
    }
   ],
   "source": [
    "t[n_max]"
   ]
  },
  {
   "cell_type": "code",
   "execution_count": null,
   "metadata": {},
   "outputs": [],
   "source": []
  }
 ],
 "metadata": {
  "kernelspec": {
   "display_name": "Python 3",
   "language": "python",
   "name": "python3"
  },
  "language_info": {
   "codemirror_mode": {
    "name": "ipython",
    "version": 3
   },
   "file_extension": ".py",
   "mimetype": "text/x-python",
   "name": "python",
   "nbconvert_exporter": "python",
   "pygments_lexer": "ipython3",
   "version": "3.6.4"
  }
 },
 "nbformat": 4,
 "nbformat_minor": 2
}
